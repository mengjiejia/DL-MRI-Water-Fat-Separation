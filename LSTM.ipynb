{
 "cells": [
  {
   "cell_type": "code",
   "execution_count": 246,
   "id": "41829a97-938b-4001-9b3b-52dd816a6c0e",
   "metadata": {},
   "outputs": [
    {
     "name": "stderr",
     "output_type": "stream",
     "text": [
      "/tmp/ipykernel_4872/787201309.py:13: DtypeWarning: Columns (0,1,3,4,5,6,7,8,9,10,11,12,13,14,15,16,17,18,19,20,21,22,23,24,25,26,27,28,29,30,31,32,33,34,35,36,37,38,39,40,41,42,43,44,45,46,47,48,49,50,51,52,53,54,55,56,57,58,59,60,61,62,63,64,65,66,67,68,69,70,71,72,73,74,75,76,77,78) have mixed types. Specify dtype option on import or set low_memory=False.\n",
      "  df = pd.read_csv('/media/mengjie/Data/Downloads/02-16-2018.csv') #CSE-CIC-IDS 2018 (02-16-2018)\n"
     ]
    },
    {
     "name": "stdout",
     "output_type": "stream",
     "text": [
      "  Dst_Port Protocol            Timestamp Flow_Duration Tot_Fwd_Pkts   \n",
      "0        0        0  16/02/2018 08:27:23     112640768            3  \\\n",
      "1        0        0  16/02/2018 08:30:12     112641773            3   \n",
      "2    35605        6  16/02/2018 08:26:55      20784143           23   \n",
      "3        0        0  16/02/2018 08:33:01     112640836            3   \n",
      "4       23        6  16/02/2018 08:27:59            20            1   \n",
      "\n",
      "  Tot_Bwd_Pkts TotLen_Fwd_Pkts TotLen_Bwd_Pkts Fwd_Pkt_Len_Max   \n",
      "0            0               0               0               0  \\\n",
      "1            0               0               0               0   \n",
      "2           44            2416            1344             240   \n",
      "3            0               0               0               0   \n",
      "4            1               0               0               0   \n",
      "\n",
      "  Fwd_Pkt_Len_Min  ... Fwd_Seg_Size_Min Active_Mean Active_Std Active_Max   \n",
      "0               0  ...                0           0        0.0          0  \\\n",
      "1               0  ...                0           0        0.0          0   \n",
      "2              64  ...               20     2624734        0.0    2624734   \n",
      "3               0  ...                0           0        0.0          0   \n",
      "4               0  ...               20           0        0.0          0   \n",
      "\n",
      "  Active_Min   Idle_Mean    Idle_Std  Idle_Max  Idle_Min   Label  \n",
      "0          0  56300000.0  138.592929  56300000  56300000  Benign  \n",
      "1          0  56300000.0  263.750829  56300000  56300000  Benign  \n",
      "2    2624734   9058214.0         0.0   9058214   9058214  Benign  \n",
      "3          0  56300000.0   82.024387  56300000  56300000  Benign  \n",
      "4          0         0.0         0.0         0         0  Benign  \n",
      "\n",
      "[5 rows x 80 columns]\n",
      "Data type of each column of Dataframe :\n",
      "<class 'pandas.core.frame.DataFrame'>\n",
      "RangeIndex: 1048575 entries, 0 to 1048574\n",
      "Data columns (total 80 columns):\n",
      " #   Column             Non-Null Count    Dtype \n",
      "---  ------             --------------    ----- \n",
      " 0   Dst_Port           1048575 non-null  object\n",
      " 1   Protocol           1048575 non-null  object\n",
      " 2   Timestamp          1048575 non-null  object\n",
      " 3   Flow_Duration      1048575 non-null  object\n",
      " 4   Tot_Fwd_Pkts       1048575 non-null  object\n",
      " 5   Tot_Bwd_Pkts       1048575 non-null  object\n",
      " 6   TotLen_Fwd_Pkts    1048575 non-null  object\n",
      " 7   TotLen_Bwd_Pkts    1048575 non-null  object\n",
      " 8   Fwd_Pkt_Len_Max    1048575 non-null  object\n",
      " 9   Fwd_Pkt_Len_Min    1048575 non-null  object\n",
      " 10  Fwd_Pkt_Len_Mean   1048575 non-null  object\n",
      " 11  Fwd_Pkt_Len_Std    1048575 non-null  object\n",
      " 12  Bwd_Pkt_Len_Max    1048575 non-null  object\n",
      " 13  Bwd_Pkt_Len_Min    1048575 non-null  object\n",
      " 14  Bwd_Pkt_Len_Mean   1048575 non-null  object\n",
      " 15  Bwd_Pkt_Len_Std    1048575 non-null  object\n",
      " 16  Flow_Byts/s        1048575 non-null  object\n",
      " 17  Flow_Pkts/s        1048575 non-null  object\n",
      " 18  Flow_IAT_Mean      1048575 non-null  object\n",
      " 19  Flow_IAT_Std       1048575 non-null  object\n",
      " 20  Flow_IAT_Max       1048575 non-null  object\n",
      " 21  Flow_IAT_Min       1048575 non-null  object\n",
      " 22  Fwd_IAT_Tot        1048575 non-null  object\n",
      " 23  Fwd_IAT_Mean       1048575 non-null  object\n",
      " 24  Fwd_IAT_Std        1048575 non-null  object\n",
      " 25  Fwd_IAT_Max        1048575 non-null  object\n",
      " 26  Fwd_IAT_Min        1048575 non-null  object\n",
      " 27  Bwd_IAT_Tot        1048575 non-null  object\n",
      " 28  Bwd_IAT_Mean       1048575 non-null  object\n",
      " 29  Bwd_IAT_Std        1048575 non-null  object\n",
      " 30  Bwd_IAT_Max        1048575 non-null  object\n",
      " 31  Bwd_IAT_Min        1048575 non-null  object\n",
      " 32  Fwd_PSH_Flags      1048575 non-null  object\n",
      " 33  Bwd_PSH_Flags      1048575 non-null  object\n",
      " 34  Fwd_URG_Flags      1048575 non-null  object\n",
      " 35  Bwd_URG_Flags      1048575 non-null  object\n",
      " 36  Fwd_Header_Len     1048575 non-null  object\n",
      " 37  Bwd_Header_Len     1048575 non-null  object\n",
      " 38  Fwd_Pkts/s         1048575 non-null  object\n",
      " 39  Bwd_Pkts/s         1048575 non-null  object\n",
      " 40  Pkt_Len_Min        1048575 non-null  object\n",
      " 41  Pkt_Len_Max        1048575 non-null  object\n",
      " 42  Pkt_Len_Mean       1048575 non-null  object\n",
      " 43  Pkt_Len_Std        1048575 non-null  object\n",
      " 44  Pkt_Len_Var        1048575 non-null  object\n",
      " 45  FIN_Flag_Cnt       1048575 non-null  object\n",
      " 46  SYN_Flag_Cnt       1048575 non-null  object\n",
      " 47  RST_Flag_Cnt       1048575 non-null  object\n",
      " 48  PSH_Flag_Cnt       1048575 non-null  object\n",
      " 49  ACK_Flag_Cnt       1048575 non-null  object\n",
      " 50  URG_Flag_Cnt       1048575 non-null  object\n",
      " 51  CWE_Flag_Count     1048575 non-null  object\n",
      " 52  ECE_Flag_Cnt       1048575 non-null  object\n",
      " 53  Down/Up_Ratio      1048575 non-null  object\n",
      " 54  Pkt_Size_Avg       1048575 non-null  object\n",
      " 55  Fwd_Seg_Size_Avg   1048575 non-null  object\n",
      " 56  Bwd_Seg_Size_Avg   1048575 non-null  object\n",
      " 57  Fwd_Byts/b_Avg     1048575 non-null  object\n",
      " 58  Fwd_Pkts/b_Avg     1048575 non-null  object\n",
      " 59  Fwd_Blk_Rate_Avg   1048575 non-null  object\n",
      " 60  Bwd_Byts/b_Avg     1048575 non-null  object\n",
      " 61  Bwd_Pkts/b_Avg     1048575 non-null  object\n",
      " 62  Bwd_Blk_Rate_Avg   1048575 non-null  object\n",
      " 63  Subflow_Fwd_Pkts   1048575 non-null  object\n",
      " 64  Subflow_Fwd_Byts   1048575 non-null  object\n",
      " 65  Subflow_Bwd_Pkts   1048575 non-null  object\n",
      " 66  Subflow_Bwd_Byts   1048575 non-null  object\n",
      " 67  Init_Fwd_Win_Byts  1048575 non-null  object\n",
      " 68  Init_Bwd_Win_Byts  1048575 non-null  object\n",
      " 69  Fwd_Act_Data_Pkts  1048575 non-null  object\n",
      " 70  Fwd_Seg_Size_Min   1048575 non-null  object\n",
      " 71  Active_Mean        1048575 non-null  object\n",
      " 72  Active_Std         1048575 non-null  object\n",
      " 73  Active_Max         1048575 non-null  object\n",
      " 74  Active_Min         1048575 non-null  object\n",
      " 75  Idle_Mean          1048575 non-null  object\n",
      " 76  Idle_Std           1048575 non-null  object\n",
      " 77  Idle_Max           1048575 non-null  object\n",
      " 78  Idle_Min           1048575 non-null  object\n",
      " 79  Label              1048575 non-null  object\n",
      "dtypes: object(80)\n",
      "memory usage: 640.0+ MB\n",
      "Label\n",
      "DoS attacks-Hulk            461912\n",
      "Benign                      446772\n",
      "DoS attacks-SlowHTTPTest    139890\n",
      "Name: count, dtype: int64\n",
      "Label\n",
      "1    461912\n",
      "0    446772\n",
      "Name: count, dtype: int64\n"
     ]
    }
   ],
   "source": [
    "# Import necessary libraries\n",
    "import pandas as pd\n",
    "import numpy as np\n",
    "from sklearn.preprocessing import LabelEncoder, OneHotEncoder, StandardScaler\n",
    "from keras.utils import to_categorical\n",
    "import matplotlib.pyplot as plt\n",
    "from tensorflow.keras.models import Sequential\n",
    "from tensorflow.keras.layers import LSTM, Dense, Dropout\n",
    "from tensorflow.keras.callbacks import EarlyStopping\n",
    "from tensorflow.keras.layers import Conv1D, MaxPooling1D, Flatten\n",
    "from keras.optimizers import SGD\n",
    "\n",
    "df = pd.read_csv('/media/mengjie/Data/Downloads/02-16-2018.csv') #CSE-CIC-IDS 2018 (02-16-2018)\n",
    "\n",
    "cols = df.columns\n",
    "cols = cols.map(lambda x: x.replace(' ', '_') )\n",
    "df.columns = cols\n",
    "print(df.head())\n",
    "#replace infinit number\n",
    "df=df.replace([np.inf, -np.inf], np.nan).dropna(axis=1)\n",
    "\n",
    "#drop null\n",
    "df.dropna(how = 'all')\n",
    "print('Data type of each column of Dataframe :')\n",
    "df.info(verbose=True)\n",
    "df = df.sort_values('Timestamp')\n",
    "df.drop(df.tail(1).index,inplace=True)\n",
    "df = df.reset_index(drop=True)\n",
    "df = df.drop(columns=['Timestamp', 'Dst_Port', 'Protocol'])\n",
    "print(df['Label'].value_counts())\n",
    "\n",
    "df.drop(df.loc[df['Label']=='DoS attacks-SlowHTTPTest'].index, inplace=True)\n",
    "# df.to_csv('lstm_dataset.csv')\n",
    "\n",
    "df.Label[df.Label=='Benign'] = 0\n",
    "df.Label[df.Label =='DoS attacks-Hulk'] = 1\n",
    "df[\"Label\"].astype('Int64')\n",
    "print(df['Label'].value_counts())"
   ]
  },
  {
   "cell_type": "code",
   "execution_count": 247,
   "id": "90ebe71a-7757-48f7-9eaa-f57390ca92a9",
   "metadata": {},
   "outputs": [],
   "source": [
    "train_df = df.copy() # Use .iloc to avoid a SettingWithCopyWarning"
   ]
  },
  {
   "cell_type": "code",
   "execution_count": 248,
   "id": "8fdf46b7-6e95-4cea-87fd-a8cedc680964",
   "metadata": {},
   "outputs": [],
   "source": [
    "y = train_df.loc[0:52147,'Label'].astype('Int64')\n",
    "X = train_df.drop(columns=['Label']).astype(np.float64)\n",
    "X = X.loc[0:52147,:]"
   ]
  },
  {
   "cell_type": "code",
   "execution_count": 249,
   "id": "52b6cd33-f02e-492c-a72d-d8f87bae11e1",
   "metadata": {},
   "outputs": [
    {
     "name": "stdout",
     "output_type": "stream",
     "text": [
      "Label\n",
      "1    33099\n",
      "0    19049\n",
      "Name: count, dtype: Int64\n"
     ]
    }
   ],
   "source": [
    "print(y.value_counts())"
   ]
  },
  {
   "cell_type": "code",
   "execution_count": 250,
   "id": "7717005b-4291-4088-a4b1-e46cf2f0577d",
   "metadata": {},
   "outputs": [],
   "source": [
    "# Define sequence length and overlap\n",
    "seq_length = 10 # Sequence length\n",
    "seq_overlap = 5 # Overlap between sequences\n",
    "\n",
    "def generate_sequences(X, y):\n",
    "    X_seqs = []\n",
    "    y_seqs = []\n",
    "    for i in range(0, len(X) - seq_length + 1, seq_overlap):\n",
    "        X_seqs.append(X.iloc[i:i+seq_length, :].to_numpy())\n",
    "        y_seqs.append(y.iloc[i+seq_length+1])\n",
    "    return np.array(X_seqs), np.array(y_seqs)\n",
    "\n",
    "X_seqs, y_seqs = generate_sequences(X, y)\n"
   ]
  },
  {
   "cell_type": "code",
   "execution_count": 251,
   "id": "24d18c2a-2dc9-41c4-8a0f-04b1a06da497",
   "metadata": {},
   "outputs": [
    {
     "name": "stdout",
     "output_type": "stream",
     "text": [
      "total normal counts:  3803\n",
      "total abnormal counts:  6625\n"
     ]
    }
   ],
   "source": [
    "normal_indices = [i for i, x in enumerate(y_seqs) if x == 0]\n",
    "abnormal_indices = [i for i, x in enumerate(y_seqs) if x == 1]\n",
    "\n",
    "print('total normal counts: ', len(normal_indices))\n",
    "print('total abnormal counts: ', len(abnormal_indices))"
   ]
  },
  {
   "cell_type": "code",
   "execution_count": 252,
   "id": "71c69c7c-7d8f-4798-9f7f-662ddbcc9506",
   "metadata": {},
   "outputs": [],
   "source": [
    "# normalize data\n",
    "X_seqs = (X_seqs - X_seqs.mean()) / X_seqs.std()"
   ]
  },
  {
   "cell_type": "code",
   "execution_count": 253,
   "id": "539f08ff-1cea-44ce-9534-e1921cd862b5",
   "metadata": {},
   "outputs": [],
   "source": [
    "# split dataset\n",
    "l = len(X_seqs)\n",
    "train_size = int(0.7 * l)\n",
    "val_size = int(0.15 * l)\n",
    "test_size = l - train_size - val_size\n",
    "train_X = X_seqs[:train_size,:]\n",
    "train_y = y_seqs[:train_size]\n",
    "val_X = X_seqs[train_size:train_size+val_size,:]\n",
    "val_y = y_seqs[train_size:train_size+val_size]\n",
    "test_X = X_seqs[train_size+val_size:,:]\n",
    "test_y = y_seqs[train_size+val_size:]"
   ]
  },
  {
   "cell_type": "code",
   "execution_count": 254,
   "id": "ef46452d-6667-4180-ac29-84662c862bd8",
   "metadata": {},
   "outputs": [
    {
     "name": "stdout",
     "output_type": "stream",
     "text": [
      "normal counts in training set:  2445\n",
      "abnormal counts in training set:  4854\n"
     ]
    }
   ],
   "source": [
    "normal_indices = [i for i, x in enumerate(train_y) if x == 0]\n",
    "abnormal_indices = [i for i, x in enumerate(train_y) if x == 1]\n",
    "\n",
    "print('normal counts in training set: ', len(normal_indices))\n",
    "print('abnormal counts in training set: ', len(abnormal_indices))"
   ]
  },
  {
   "cell_type": "code",
   "execution_count": 255,
   "id": "42f89ff4-26b2-490f-b12f-ea182a636ba8",
   "metadata": {},
   "outputs": [
    {
     "name": "stdout",
     "output_type": "stream",
     "text": [
      "normal counts in validation set:  507\n",
      "abnormal counts in validation set:  1057\n"
     ]
    }
   ],
   "source": [
    "normal_indices = [i for i, x in enumerate(val_y) if x == 0]\n",
    "abnormal_indices = [i for i, x in enumerate(val_y) if x == 1]\n",
    "\n",
    "print('normal counts in validation set: ', len(normal_indices))\n",
    "print('abnormal counts in validation set: ', len(abnormal_indices))"
   ]
  },
  {
   "cell_type": "code",
   "execution_count": 256,
   "id": "ffcc0fe7-dae3-4cb2-ad94-bf922399ff64",
   "metadata": {},
   "outputs": [
    {
     "name": "stdout",
     "output_type": "stream",
     "text": [
      "normal counts in test set:  851\n",
      "abnormal counts in test set:  714\n"
     ]
    }
   ],
   "source": [
    "normal_indices = [i for i, x in enumerate(test_y) if x == 0]\n",
    "abnormal_indices = [i for i, x in enumerate(test_y) if x == 1]\n",
    "\n",
    "print('normal counts in test set: ', len(normal_indices))\n",
    "print('abnormal counts in test set: ', len(abnormal_indices))"
   ]
  },
  {
   "cell_type": "code",
   "execution_count": 257,
   "id": "d4a562d3-605b-486e-99ee-0bea3cc484c6",
   "metadata": {},
   "outputs": [],
   "source": [
    "import random\n",
    "\n",
    "def sample_even_distribution(X_seqs, y_label):\n",
    "    # Separate the list into two sublists\n",
    "    normal_indices = [i for i, x in enumerate(y_label) if x == 0]\n",
    "    abnormal_indices = [i for i, x in enumerate(y_label) if x == 1]\n",
    "    \n",
    "    min_samples = min(len(normal_indices), len(abnormal_indices))\n",
    "    \n",
    "    # Sample an equal number of elements from each sublist in order\n",
    "    sampled_indices = []\n",
    "    for i in range(min_samples):\n",
    "        sampled_indices.append(normal_indices[i])\n",
    "        sampled_indices.append(abnormal_indices[i])\n",
    "    \n",
    "    np.random.shuffle(sampled_indices)\n",
    "    \n",
    "    # Extract the sampled elements based on their indices\n",
    "    X = [X_seqs[i] for i in sampled_indices]\n",
    "    y = [y_label[i] for i in sampled_indices]\n",
    "    \n",
    "    return np.array(X), np.array(y)"
   ]
  },
  {
   "cell_type": "code",
   "execution_count": 258,
   "id": "0bc4d2be-36fc-46d7-869b-02ae3ad5988b",
   "metadata": {},
   "outputs": [],
   "source": [
    "train_X, train_y = sample_even_distribution(train_X, train_y)"
   ]
  },
  {
   "cell_type": "code",
   "execution_count": 259,
   "id": "1119248c-231c-43a1-8127-6dda82fae32f",
   "metadata": {},
   "outputs": [
    {
     "name": "stdout",
     "output_type": "stream",
     "text": [
      "normal counts in training set:  2445\n",
      "abnormal counts in training set:  2445\n"
     ]
    }
   ],
   "source": [
    "normal_indices = [i for i, x in enumerate(train_y) if x == 0]\n",
    "abnormal_indices = [i for i, x in enumerate(train_y) if x == 1]\n",
    "\n",
    "print('normal counts in training set: ', len(normal_indices))\n",
    "print('abnormal counts in training set: ', len(abnormal_indices))"
   ]
  },
  {
   "cell_type": "code",
   "execution_count": 260,
   "id": "4ededd37-ca05-48bc-ba2e-3da453f20cd9",
   "metadata": {},
   "outputs": [],
   "source": [
    "val_X, val_y = sample_even_distribution(val_X, val_y)"
   ]
  },
  {
   "cell_type": "code",
   "execution_count": 261,
   "id": "f8953be1-b74b-4a66-a073-0c40fe710630",
   "metadata": {},
   "outputs": [
    {
     "name": "stdout",
     "output_type": "stream",
     "text": [
      "normal counts in validation set:  507\n",
      "abnormal counts in validation set:  507\n"
     ]
    }
   ],
   "source": [
    "normal_indices = [i for i, x in enumerate(val_y) if x == 0]\n",
    "abnormal_indices = [i for i, x in enumerate(val_y) if x == 1]\n",
    "\n",
    "print('normal counts in validation set: ', len(normal_indices))\n",
    "print('abnormal counts in validation set: ', len(abnormal_indices))"
   ]
  },
  {
   "cell_type": "code",
   "execution_count": 262,
   "id": "1814c274-e474-48a6-9048-e34c7f7b0b21",
   "metadata": {},
   "outputs": [],
   "source": [
    "test_X, test_y = sample_even_distribution(test_X, test_y)"
   ]
  },
  {
   "cell_type": "code",
   "execution_count": 263,
   "id": "fe1988c9-9665-4299-af90-f80e794c6b61",
   "metadata": {},
   "outputs": [
    {
     "name": "stdout",
     "output_type": "stream",
     "text": [
      "normal counts in test set:  714\n",
      "abnormal counts in test set:  714\n"
     ]
    }
   ],
   "source": [
    "normal_indices = [i for i, x in enumerate(test_y) if x == 0]\n",
    "abnormal_indices = [i for i, x in enumerate(test_y) if x == 1]\n",
    "\n",
    "print('normal counts in test set: ', len(normal_indices))\n",
    "print('abnormal counts in test set: ', len(abnormal_indices))"
   ]
  },
  {
   "cell_type": "code",
   "execution_count": 264,
   "id": "de2ebf9b-3f1e-40ab-88a6-306261ea3552",
   "metadata": {},
   "outputs": [
    {
     "name": "stdout",
     "output_type": "stream",
     "text": [
      "<class 'numpy.ndarray'>\n"
     ]
    }
   ],
   "source": [
    "print(type(train_X))"
   ]
  },
  {
   "cell_type": "code",
   "execution_count": 265,
   "id": "17370954-2a18-47fb-9a01-c995d9afd9c3",
   "metadata": {},
   "outputs": [
    {
     "name": "stdout",
     "output_type": "stream",
     "text": [
      "(4890, 10, 76)\n"
     ]
    }
   ],
   "source": [
    "print(train_X.shape)"
   ]
  },
  {
   "cell_type": "code",
   "execution_count": 266,
   "id": "dab6747d-d053-454b-9fce-c12e9e4b5fbb",
   "metadata": {},
   "outputs": [
    {
     "name": "stdout",
     "output_type": "stream",
     "text": [
      "(1428, 10, 76)\n"
     ]
    }
   ],
   "source": [
    "print(test_X.shape)"
   ]
  },
  {
   "cell_type": "code",
   "execution_count": 267,
   "id": "c931dabf-09cc-48ff-b1dd-de72f7634311",
   "metadata": {},
   "outputs": [
    {
     "name": "stdout",
     "output_type": "stream",
     "text": [
      "(4890,)\n"
     ]
    }
   ],
   "source": [
    "print(train_y.shape)"
   ]
  },
  {
   "cell_type": "code",
   "execution_count": 268,
   "id": "26b28ecb-3718-4cb0-bae3-8f21fbaa8366",
   "metadata": {},
   "outputs": [
    {
     "name": "stdout",
     "output_type": "stream",
     "text": [
      "(4890, 10, 76) (4890,) (1014, 10, 76) (1014,)\n",
      "Model: \"sequential_23\"\n",
      "_________________________________________________________________\n",
      " Layer (type)                Output Shape              Param #   \n",
      "=================================================================\n",
      " lstm_66 (LSTM)              (None, 10, 64)            36096     \n",
      "                                                                 \n",
      " lstm_67 (LSTM)              (None, 32)                12416     \n",
      "                                                                 \n",
      " dropout_23 (Dropout)        (None, 32)                0         \n",
      "                                                                 \n",
      " activation_23 (Activation)  (None, 32)                0         \n",
      "                                                                 \n",
      " dense_23 (Dense)            (None, 1)                 33        \n",
      "                                                                 \n",
      "=================================================================\n",
      "Total params: 48,545\n",
      "Trainable params: 48,545\n",
      "Non-trainable params: 0\n",
      "_________________________________________________________________\n"
     ]
    }
   ],
   "source": [
    "seq_length = 10 # set the sequence length\n",
    "n_features = 76 # number of features in the dataset\n",
    "\n",
    "# Define model architecture\n",
    "from keras.layers import Activation\n",
    "\n",
    "\n",
    "# Define model architecture with ReLU activation function\n",
    "model = Sequential()\n",
    "\n",
    "model.add(LSTM(units=64, input_shape=(seq_length, n_features), return_sequences=True))\n",
    "model.add(LSTM(units=32, return_sequences=False))\n",
    "model.add(Dropout(0.2))\n",
    "\n",
    "model.add(Activation('relu'))\n",
    "model.add(Dense(units=1, activation='sigmoid'))\n",
    "\n",
    "\n",
    "# Compile model with adam optimizer\n",
    "model.compile(optimizer='adam', loss='binary_crossentropy', metrics=['accuracy'])\n",
    "\n",
    "print(train_X.shape, train_y.shape, val_X.shape, val_y.shape)\n",
    "model.summary()"
   ]
  },
  {
   "cell_type": "code",
   "execution_count": 269,
   "id": "05346d58-4c69-4357-b4dd-822b558ca70e",
   "metadata": {},
   "outputs": [
    {
     "name": "stdout",
     "output_type": "stream",
     "text": [
      "Epoch 1/100\n",
      "306/306 [==============================] - 3s 6ms/step - loss: 0.1853 - accuracy: 0.9654 - val_loss: 0.4159 - val_accuracy: 0.8501\n",
      "Epoch 2/100\n",
      "306/306 [==============================] - 1s 5ms/step - loss: 0.1173 - accuracy: 0.9691 - val_loss: 0.3914 - val_accuracy: 0.8560\n",
      "Epoch 3/100\n",
      "306/306 [==============================] - 1s 5ms/step - loss: 0.1116 - accuracy: 0.9693 - val_loss: 0.3989 - val_accuracy: 0.8600\n",
      "Epoch 4/100\n",
      "306/306 [==============================] - 1s 5ms/step - loss: 0.1090 - accuracy: 0.9677 - val_loss: 0.3701 - val_accuracy: 0.8580\n",
      "Epoch 5/100\n",
      "306/306 [==============================] - 1s 5ms/step - loss: 0.1085 - accuracy: 0.9695 - val_loss: 0.3701 - val_accuracy: 0.8580\n",
      "Epoch 6/100\n",
      "306/306 [==============================] - 1s 5ms/step - loss: 0.1075 - accuracy: 0.9689 - val_loss: 0.3594 - val_accuracy: 0.8550\n",
      "Epoch 7/100\n",
      "306/306 [==============================] - 1s 5ms/step - loss: 0.1027 - accuracy: 0.9724 - val_loss: 0.3760 - val_accuracy: 0.8560\n",
      "Epoch 8/100\n",
      "306/306 [==============================] - 1s 5ms/step - loss: 0.1033 - accuracy: 0.9701 - val_loss: 0.3627 - val_accuracy: 0.8570\n",
      "Epoch 9/100\n",
      "306/306 [==============================] - 1s 4ms/step - loss: 0.1027 - accuracy: 0.9708 - val_loss: 0.3959 - val_accuracy: 0.8314\n",
      "Epoch 10/100\n",
      "306/306 [==============================] - 1s 5ms/step - loss: 0.0980 - accuracy: 0.9716 - val_loss: 0.3691 - val_accuracy: 0.8531\n",
      "Epoch 11/100\n",
      "306/306 [==============================] - 1s 5ms/step - loss: 0.0978 - accuracy: 0.9720 - val_loss: 0.3615 - val_accuracy: 0.8580\n",
      "Epoch 12/100\n",
      "306/306 [==============================] - 1s 5ms/step - loss: 0.0975 - accuracy: 0.9722 - val_loss: 0.3715 - val_accuracy: 0.8333\n",
      "Epoch 13/100\n",
      "306/306 [==============================] - 1s 5ms/step - loss: 0.1004 - accuracy: 0.9722 - val_loss: 0.3910 - val_accuracy: 0.8254\n",
      "Epoch 14/100\n",
      "306/306 [==============================] - 1s 5ms/step - loss: 0.0987 - accuracy: 0.9724 - val_loss: 0.3582 - val_accuracy: 0.8491\n",
      "Epoch 15/100\n",
      "306/306 [==============================] - 1s 5ms/step - loss: 0.0974 - accuracy: 0.9732 - val_loss: 0.3700 - val_accuracy: 0.8550\n",
      "Epoch 16/100\n",
      "306/306 [==============================] - 1s 5ms/step - loss: 0.0961 - accuracy: 0.9732 - val_loss: 0.3725 - val_accuracy: 0.8531\n",
      "Epoch 17/100\n",
      "306/306 [==============================] - 1s 5ms/step - loss: 0.0982 - accuracy: 0.9738 - val_loss: 0.3739 - val_accuracy: 0.8412\n",
      "Epoch 18/100\n",
      "306/306 [==============================] - 1s 5ms/step - loss: 0.0963 - accuracy: 0.9730 - val_loss: 0.3758 - val_accuracy: 0.8471\n",
      "Epoch 19/100\n",
      "306/306 [==============================] - 1s 5ms/step - loss: 0.0955 - accuracy: 0.9720 - val_loss: 0.3903 - val_accuracy: 0.8521\n",
      "Epoch 20/100\n",
      "306/306 [==============================] - 1s 5ms/step - loss: 0.0963 - accuracy: 0.9732 - val_loss: 0.3952 - val_accuracy: 0.8343\n",
      "Epoch 21/100\n",
      "306/306 [==============================] - 1s 5ms/step - loss: 0.0959 - accuracy: 0.9730 - val_loss: 0.3885 - val_accuracy: 0.8521\n",
      "Epoch 22/100\n",
      "306/306 [==============================] - 1s 5ms/step - loss: 0.0954 - accuracy: 0.9728 - val_loss: 0.3570 - val_accuracy: 0.8550\n",
      "Epoch 23/100\n",
      "306/306 [==============================] - 1s 5ms/step - loss: 0.0960 - accuracy: 0.9738 - val_loss: 0.3873 - val_accuracy: 0.8471\n",
      "Epoch 24/100\n",
      "306/306 [==============================] - 1s 5ms/step - loss: 0.0934 - accuracy: 0.9742 - val_loss: 0.4058 - val_accuracy: 0.8422\n",
      "Epoch 25/100\n",
      "306/306 [==============================] - 1s 5ms/step - loss: 0.0929 - accuracy: 0.9744 - val_loss: 0.3998 - val_accuracy: 0.8452\n",
      "Epoch 26/100\n",
      "306/306 [==============================] - 1s 5ms/step - loss: 0.0943 - accuracy: 0.9742 - val_loss: 0.3882 - val_accuracy: 0.8491\n",
      "Epoch 27/100\n",
      "306/306 [==============================] - 1s 5ms/step - loss: 0.0935 - accuracy: 0.9746 - val_loss: 0.3964 - val_accuracy: 0.8462\n",
      "Epoch 28/100\n",
      "306/306 [==============================] - 1s 5ms/step - loss: 0.0947 - accuracy: 0.9742 - val_loss: 0.4177 - val_accuracy: 0.8393\n",
      "Epoch 29/100\n",
      "306/306 [==============================] - 1s 5ms/step - loss: 0.0926 - accuracy: 0.9753 - val_loss: 0.4173 - val_accuracy: 0.8501\n",
      "Epoch 30/100\n",
      "306/306 [==============================] - 1s 5ms/step - loss: 0.0900 - accuracy: 0.9746 - val_loss: 0.4254 - val_accuracy: 0.8304\n",
      "Epoch 31/100\n",
      "306/306 [==============================] - 1s 5ms/step - loss: 0.0921 - accuracy: 0.9742 - val_loss: 0.4180 - val_accuracy: 0.8205\n",
      "Epoch 32/100\n",
      "306/306 [==============================] - 1s 5ms/step - loss: 0.0899 - accuracy: 0.9734 - val_loss: 0.4272 - val_accuracy: 0.8452\n",
      "Epoch 32: early stopping\n"
     ]
    },
    {
     "data": {
      "text/plain": [
       "<keras.callbacks.History at 0x7f62290a4070>"
      ]
     },
     "execution_count": 269,
     "metadata": {},
     "output_type": "execute_result"
    }
   ],
   "source": [
    "# Train model\n",
    "early_stop = EarlyStopping(monitor='val_loss', patience=10, verbose=1)\n",
    "history = model.fit(train_X, train_y, epochs=100, batch_size=16, validation_data=(val_X, val_y), callbacks=[early_stop])\n",
    "history\n"
   ]
  },
  {
   "cell_type": "code",
   "execution_count": 270,
   "id": "e71d1511-e404-43e7-8310-fee00e45eb99",
   "metadata": {},
   "outputs": [
    {
     "name": "stdout",
     "output_type": "stream",
     "text": [
      "45/45 [==============================] - 0s 2ms/step\n"
     ]
    }
   ],
   "source": [
    "predictions = model.predict(test_X)\n",
    "binary_predictions = (predictions > 0.5).astype(int)"
   ]
  },
  {
   "cell_type": "code",
   "execution_count": 271,
   "id": "cf9135c6-5ee4-4e1a-9347-ff8ff8f22cae",
   "metadata": {},
   "outputs": [
    {
     "name": "stdout",
     "output_type": "stream",
     "text": [
      "Accuracy: 84.59%\n"
     ]
    }
   ],
   "source": [
    "from sklearn.metrics import accuracy_score\n",
    "accuracy = accuracy_score(test_y, binary_predictions)\n",
    "print(f'Accuracy: {accuracy * 100:.2f}%')"
   ]
  },
  {
   "cell_type": "code",
   "execution_count": null,
   "id": "0bf112d5-68ca-4b9d-acbe-2d328f6bde07",
   "metadata": {},
   "outputs": [],
   "source": []
  }
 ],
 "metadata": {
  "kernelspec": {
   "display_name": "Python 3 (ipykernel)",
   "language": "python",
   "name": "python3"
  },
  "language_info": {
   "codemirror_mode": {
    "name": "ipython",
    "version": 3
   },
   "file_extension": ".py",
   "mimetype": "text/x-python",
   "name": "python",
   "nbconvert_exporter": "python",
   "pygments_lexer": "ipython3",
   "version": "3.8.10"
  }
 },
 "nbformat": 4,
 "nbformat_minor": 5
}
